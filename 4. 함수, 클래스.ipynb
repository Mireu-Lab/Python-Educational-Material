{
 "cells": [
  {
   "cell_type": "markdown",
   "id": "14cc3f9a-edb3-46a4-a6ad-4f36795e563e",
   "metadata": {},
   "source": [
    "## 함수 생성"
   ]
  },
  {
   "cell_type": "code",
   "execution_count": null,
   "id": "8e8b7ae1-b16f-49e6-9fe0-876d916765bb",
   "metadata": {},
   "outputs": [],
   "source": [
    "def main():\n",
    "    print(1+1)"
   ]
  },
  {
   "cell_type": "code",
   "execution_count": 1,
   "id": "ce513e5b-12cd-488a-a7f7-144c70a183ee",
   "metadata": {},
   "outputs": [],
   "source": [
    "def main(a):\n",
    "    print(a+1)"
   ]
  },
  {
   "cell_type": "code",
   "execution_count": 4,
   "id": "d1a65fe0-40bd-4462-9727-ded8c128551e",
   "metadata": {},
   "outputs": [],
   "source": [
    "def main(a):\n",
    "    return a"
   ]
  },
  {
   "cell_type": "code",
   "execution_count": 2,
   "id": "0b00b520-1797-4fdf-87ae-500450a67a89",
   "metadata": {},
   "outputs": [],
   "source": [
    "def main(a = None, b = int, c = str, d = bool):\n",
    "    print(type(a))\n",
    "    print(type(b))\n",
    "    print(type(c))\n",
    "    print(type(d))"
   ]
  },
  {
   "cell_type": "markdown",
   "id": "cfe2ab3c-b658-45d9-a603-d9a0914023b3",
   "metadata": {},
   "source": [
    "## 클래스 생성"
   ]
  },
  {
   "cell_type": "code",
   "execution_count": 5,
   "id": "4860a382-b363-4ee6-978e-db5bf47b3fac",
   "metadata": {},
   "outputs": [],
   "source": [
    "class main:\n",
    "    def __inif__(self, a):\n",
    "        self.a = a\n",
    "        \n",
    "    def sub(self):\n",
    "        print(a)        "
   ]
  }
 ],
 "metadata": {
  "kernelspec": {
   "display_name": "Python 3 (ipykernel)",
   "language": "python",
   "name": "python3"
  },
  "language_info": {
   "codemirror_mode": {
    "name": "ipython",
    "version": 3
   },
   "file_extension": ".py",
   "mimetype": "text/x-python",
   "name": "python",
   "nbconvert_exporter": "python",
   "pygments_lexer": "ipython3",
   "version": "3.10.2"
  }
 },
 "nbformat": 4,
 "nbformat_minor": 5
}
