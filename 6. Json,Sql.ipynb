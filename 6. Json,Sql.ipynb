{
 "cells": [
  {
   "cell_type": "code",
   "execution_count": 4,
   "id": "262ecb6f-4882-4444-aa1e-c940857aca07",
   "metadata": {},
   "outputs": [],
   "source": [
    "json_datasets = [{\"name\" : \"mireu/미르\", \"age\" : 19, \"Job\" : \"Computer Engineer\"}, {\"name\" : \"Mooo\", \"age\" : 18, \"Job\" : [\"Computer Engineer\", \"Student\"]}]"
   ]
  },
  {
   "cell_type": "code",
   "execution_count": null,
   "id": "f654301f-4d95-4e49-b27f-209b72c863cb",
   "metadata": {},
   "outputs": [],
   "source": []
  }
 ],
 "metadata": {
  "kernelspec": {
   "display_name": "Python 3 (ipykernel)",
   "language": "python",
   "name": "python3"
  },
  "language_info": {
   "codemirror_mode": {
    "name": "ipython",
    "version": 3
   },
   "file_extension": ".py",
   "mimetype": "text/x-python",
   "name": "python",
   "nbconvert_exporter": "python",
   "pygments_lexer": "ipython3",
   "version": "3.10.2"
  }
 },
 "nbformat": 4,
 "nbformat_minor": 5
}
