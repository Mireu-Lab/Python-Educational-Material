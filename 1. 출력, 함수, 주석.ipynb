{
 "cells": [
  {
   "cell_type": "markdown",
   "id": "711887c1-5ba7-4796-8645-34847e9cfd3e",
   "metadata": {
    "tags": []
   },
   "source": [
    "## 문자 출력\n",
    "\n",
    "파이썬에서 문자 출력은 아래와 같습니다\n",
    "```py\n",
    "print(\"안녕하세요 저는 지나가던 개발자 Mireu/미르 입니다\")\n",
    "```\n",
    "\n",
    "우리가 쓰는 모든 프로그래밍 언어에서는 특정 상황이 아닌경우 전부다 문자쓰기전에 `\", '` 을 사용해 문자을 감싸줍니다\n",
    "\n",
    "안쓰게 된다면 타입에러을 띄우게 되는데 실무에서는 해당 에러로 원인을 찾으면 해탈해하는 개발자가 몇명있습니다"
   ]
  },
  {
   "cell_type": "code",
   "execution_count": 3,
   "id": "14a6ed31-9604-43a5-9655-0b941f4070bf",
   "metadata": {},
   "outputs": [
    {
     "name": "stdout",
     "output_type": "stream",
     "text": [
      "안녕하세요 저는 지나가던 개발자 Mireu/미르 입니다\n"
     ]
    }
   ],
   "source": [
    "print(\"안녕하세요 저는 지나가던 개발자 Mireu/미르 입니다\")"
   ]
  },
  {
   "cell_type": "markdown",
   "id": "4888c1c5-d797-46b4-aa2b-2d73c8161546",
   "metadata": {
    "tags": []
   },
   "source": [
    "## 숫자 출력\n",
    "\n",
    "우리가 숫자을 출력할때는 아래와 같습니다\n",
    "```py\n",
    "print(1)\n",
    "```\n",
    "\n",
    "이제 여기서 문자열처럼 `\",'`을 감싸지 않고 할수있습니다\n",
    "\n",
    "대신 실무에서 사용하는 숫자는 정수, 미지수, 소수을 주로 사용합니다\n",
    "\n",
    "물론 계산할때도 쓰고요"
   ]
  },
  {
   "cell_type": "code",
   "execution_count": 13,
   "id": "e3b7f7bb-311d-40ed-8cb0-9a14a14d631e",
   "metadata": {},
   "outputs": [
    {
     "name": "stdout",
     "output_type": "stream",
     "text": [
      "1\n",
      "2\n"
     ]
    }
   ],
   "source": [
    "print(1)\n",
    "print(2)"
   ]
  },
  {
   "cell_type": "markdown",
   "id": "6f153d75-9f1c-4b8d-8345-292a8d880baf",
   "metadata": {
    "tags": []
   },
   "source": [
    "# 연산 처리\n",
    "\n",
    "연산 처리 문법은 파이썬 뿐만아니라 다른 언어에서 공동으로 사용되는 문법입니다"
   ]
  },
  {
   "cell_type": "markdown",
   "id": "749eaf55-e705-4710-a3c4-3772365ff80f",
   "metadata": {
    "tags": []
   },
   "source": [
    "### 덧셈\n",
    "덧셈은 우리가 특수 문자로 사용되고있는 `+` 입니다\n",
    "\n",
    "파이썬에서 실행할때는 아래와 같습니다\n",
    "\n",
    "```py\n",
    "1+1\n",
    "```\n",
    "시시하죠? 근데 이거는 문자열에서도 동작한다는것도 알고 계세요\n",
    "\n",
    "```py\n",
    "\"mireu\" + \"미르\"\n",
    "```\n",
    "이렇게 문자열끼리 더해서 출력할수도있답니다"
   ]
  },
  {
   "cell_type": "code",
   "execution_count": null,
   "id": "721e43fe-d1b9-44b0-b8f9-6a6b18dcb22f",
   "metadata": {},
   "outputs": [],
   "source": [
    "print(1+1) #덧셈"
   ]
  },
  {
   "cell_type": "markdown",
   "id": "3b7a5169-edf1-408f-bcda-46e9f5244a49",
   "metadata": {
    "tags": []
   },
   "source": [
    "### 뺄셈\n",
    "\n",
    "그리고 뺄셈!\n",
    "\n",
    "뺄셈도 똑같이 우리가 늘 사용하는 특수문자로 사용되고있습니다\n",
    "\n",
    "바로 `-` 이죠\n",
    "\n",
    "저걸가지고 어떻게 하냐고요? 뭐하긴 뭐해요 숫자나 빼라고 만든거지\n",
    "\n",
    "코드는 아래와 같습니다\n",
    "\n",
    "```py\n",
    "1-1\n",
    "```\n",
    "이건 뻔한 결과 값이라서 볼것도 없네요"
   ]
  },
  {
   "cell_type": "code",
   "execution_count": 20,
   "id": "4df051ee-32a4-4f48-a4d3-f159ef5ebc43",
   "metadata": {},
   "outputs": [
    {
     "name": "stdout",
     "output_type": "stream",
     "text": [
      "0\n"
     ]
    }
   ],
   "source": [
    "print(1-1) #뺄셈"
   ]
  },
  {
   "cell_type": "markdown",
   "id": "3f2507e2-532c-4212-a96f-877446c370b8",
   "metadata": {},
   "source": [
    "### 곱셈, 제곱\n",
    "\n",
    "곱셈은 이제 우리가 아는 문자 `X`을 쓰지 않아요\n",
    "\n",
    "왜냐면 문자열이라서 작동을 안하근요 ~~대신 애러뜨지~~\n",
    "\n",
    "그래서 곱셈의 기호는 뭐냐!\n",
    "\n",
    "`*` 입니다!\n",
    "\n",
    "코드는 아래와 같습니다\n",
    "\n",
    "```py\n",
    "2 * 2\n",
    "```\n",
    "\n",
    "이렇게 작성해서 실행 해보면! 결과적으로는 4가 나오게됩니다."
   ]
  },
  {
   "cell_type": "code",
   "execution_count": 21,
   "id": "137fe814-64ac-44da-97e0-c6304a8996dc",
   "metadata": {},
   "outputs": [
    {
     "name": "stdout",
     "output_type": "stream",
     "text": [
      "4\n",
      "9\n"
     ]
    }
   ],
   "source": [
    "print(2*2) #곱셈"
   ]
  },
  {
   "cell_type": "markdown",
   "id": "76ed690e-5d5d-4f81-82a9-fde163d68fa9",
   "metadata": {},
   "source": [
    "### 제곱\n",
    "\n",
    "아 그리고 제곱! 어짜피 쓸일이 잘없는 제곱! 데이터 사이언스 아니면 쓸일이 그닥 없는 제곱!\n",
    "\n",
    "을 알아보겠습니다.\n",
    "\n",
    "제곱의 기호는 이렇게 됩니다! `**`\n",
    "\n",
    "이렇게 봐도 뭔지 모르겠다면 그냥 코드을 보는게 인지상정이죠\n",
    "\n",
    "제곱의 코드는 아래와 같습니다\n",
    "\n",
    "```py\n",
    "3**2\n",
    "```\n",
    "이렇게 작성하게되면 결과적으로 9가 나오게됩니다."
   ]
  },
  {
   "cell_type": "code",
   "execution_count": 25,
   "id": "ade36621-a68e-4c83-bed0-928f27c009bb",
   "metadata": {},
   "outputs": [
    {
     "name": "stdout",
     "output_type": "stream",
     "text": [
      "9\n"
     ]
    }
   ],
   "source": [
    "print(3**2) #제곱"
   ]
  },
  {
   "cell_type": "markdown",
   "id": "e52d806f-2035-4748-86a2-71c6fdd8bf59",
   "metadata": {},
   "source": [
    "## 변수 선언\n",
    "\n",
    "변수 선언은 어느 언어보다 쉽습니다!\n",
    "\n",
    "바로 그냥 특수문자, 맨앞에 숫자을 제외한 모든 문자는 변수입니다\n",
    "\n",
    "왜 그렇게 작동하냐고요? ~~몰라요 내가 만들었어?~~\n",
    "\n",
    "숫자 변수 선언 예시는 아래와 같습니다\n",
    "\n",
    "```py\n",
    "a = 1\n",
    "```\n",
    "\n",
    "이렇게 변수에다가 데이터을 저장할수있고요\n",
    "\n",
    "저~기 어느 언어는 `var`이나 `int`을 가지고 변수 선언하는데 우리 파이썬은 동적 변수 선언이 되서 작동이 되요~\n",
    "\n",
    "그래서 일반 글자에도 `\"` 만 잘 넣으면 된답니다~\n",
    "\n",
    "예시 코드는 아래와 같습니다\n",
    "\n",
    "```py\n",
    "name = \"mireu/미르\"\n",
    "```\n",
    "\n",
    "이렇게 작성하고 실행도 아무런 일이 일어나지 않아요~ 그래서 프린트을 해줘야합니다\n",
    "\n",
    "바로 아래와 같이 말이죠\n",
    "\n",
    "```py\n",
    "print(a)\n",
    "print(b)\n",
    "\n",
    "print(name)\n",
    "```"
   ]
  },
  {
   "cell_type": "code",
   "execution_count": 16,
   "id": "cdda260e-baa9-47e5-bc91-f87a7c6b032e",
   "metadata": {},
   "outputs": [],
   "source": [
    "a = 1\n",
    "b = 2\n",
    "\n",
    "name = \"mireu/미르\""
   ]
  },
  {
   "cell_type": "code",
   "execution_count": 19,
   "id": "b37b7bba-cbba-4907-ab43-12fb323601dc",
   "metadata": {},
   "outputs": [
    {
     "name": "stdout",
     "output_type": "stream",
     "text": [
      "1 2\n",
      "mireu/미르 1\n"
     ]
    }
   ],
   "source": [
    "print(a, b)\n",
    "\n",
    "print(name, a)"
   ]
  },
  {
   "attachments": {
    "d5f6cff0-ad0c-4cab-af5f-830dc7f68e82.png": {
     "image/png": "[encoded data removed]"
    }
   },
   "cell_type": "markdown",
   "id": "f48ee97d-8b48-4ea5-b4bc-b9a6d5763ee6",
   "metadata": {},
   "source": [
    "## 변수 연산\n",
    "\n",
    "변수 연산은 우리가 이제 텍스트 + 텍스트 아니면 숫자 + 숫자 할때 사용됩니다!\n",
    "\n",
    "어떻게 하냐고요?\n",
    "\n",
    "아래와 같이 작동합니다!\n",
    "\n",
    "```py\n",
    "name = \"Mireu/미르\"\n",
    "print(\"안녕하세요 저는 지나가던 개발자 \" + name + \" 입니다\")\n",
    "```\n",
    "텍스트는 반드시 텍스트와 텍스트가있을때는 `+` 을 하게 되어있습니다! 왜냐면 텍스트 타입이라서 작동이 되근요!\n",
    "\n",
    "숫자 넣으면 에러 떠요\n",
    "\n",
    "이렇게요\n",
    "\n",
    "![image.png](attachment:d5f6cff0-ad0c-4cab-af5f-830dc7f68e82.png)\n",
    "\n",
    "~~작동되는게 더 이상하겠다~~\n",
    "\n",
    "그래서 숫자을 넣을때는 택스트 사이에 `,`을 이용해서 실행을 시킵니다!\n",
    "\n",
    "바로 이렇게요!\n",
    "\n",
    "```py\n",
    "age = 19\n",
    "print(\"저의 나이는 지나가던 나이만큼\" , age , \"살 입니다~\")\n",
    "```\n"
   ]
  },
  {
   "cell_type": "code",
   "execution_count": 8,
   "id": "af268f9d-2ff9-4d74-950d-23232a0e8f25",
   "metadata": {},
   "outputs": [
    {
     "name": "stdout",
     "output_type": "stream",
     "text": [
      "안녕하세요 저는 지나가던 개발자 Mireu/미르 입니다\n"
     ]
    }
   ],
   "source": [
    "name = \"Mireu/미르\"\n",
    "print(\"안녕하세요 저는 지나가던 개발자 \" + name + \" 입니다\")"
   ]
  },
  {
   "cell_type": "code",
   "execution_count": 23,
   "id": "fd965656-4847-4d03-9180-45ee632d09b2",
   "metadata": {},
   "outputs": [
    {
     "name": "stdout",
     "output_type": "stream",
     "text": [
      "저의 나이는 지나가던 나이만큼 19 살 입니다~\n"
     ]
    }
   ],
   "source": [
    "age = 19\n",
    "print(\"저의 나이는 지나가던 나이만큼\" , age , \"살 입니다~\")"
   ]
  },
  {
   "cell_type": "markdown",
   "id": "d14e6757-7bbb-4779-ab2c-4df11fcee915",
   "metadata": {},
   "source": [
    "## 주석\n",
    "\n",
    "주석은 우리가 개인적으로 개발할때는 이변수가 어떤 변수인지 알지만 협업을 할때는 남들도 봐야해서\n",
    "\n",
    "주석을 이용해서 알립니다 주석은 우리가 파이썬에서 작성하"
   ]
  },
  {
   "cell_type": "code",
   "execution_count": 1,
   "id": "1348f639-9d52-455d-9aea-0d15eb16066f",
   "metadata": {},
   "outputs": [
    {
     "name": "stdout",
     "output_type": "stream",
     "text": [
      "asdfasdf\n"
     ]
    }
   ],
   "source": [
    "print(\"asdfasdf\") # 니얼굴 감자 튀김"
   ]
  },
  {
   "cell_type": "code",
   "execution_count": 2,
   "id": "6dab68e8-47d9-4467-adb4-cdb9e8cacaca",
   "metadata": {},
   "outputs": [
    {
     "name": "stdout",
     "output_type": "stream",
     "text": [
      "감튀 머스타드지~\n"
     ]
    }
   ],
   "source": [
    "\"\"\"\n",
    "니얼굴 감자 튀김!\n",
    "\"\"\"\n",
    "\n",
    "print(\"감튀 머스타드지~\")"
   ]
  }
 ],
 "metadata": {
  "kernelspec": {
   "display_name": "Python 3 (ipykernel)",
   "language": "python",
   "name": "python3"
  },
  "language_info": {
   "codemirror_mode": {
    "name": "ipython",
    "version": 3
   },
   "file_extension": ".py",
   "mimetype": "text/x-python",
   "name": "python",
   "nbconvert_exporter": "python",
   "pygments_lexer": "ipython3",
   "version": "3.10.2"
  }
 },
 "nbformat": 4,
 "nbformat_minor": 5
}
