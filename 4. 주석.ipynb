{
 "cells": [
  {
   "cell_type": "code",
   "execution_count": null,
   "id": "2134b8ff-b801-4a95-8a34-35dfd0a11cdf",
   "metadata": {},
   "outputs": [],
   "source": []
  },
  {
   "cell_type": "markdown",
   "id": "a16ee8c5-d530-42cf-8aa1-62879eee56ab",
   "metadata": {
    "tags": []
   },
   "source": [
    "## 주석\n",
    "\n",
    "주석은 우리가 개인적으로 개발할때는 이변수가 어떤 변수인지 알지만 협업을 할때는 남들도 봐야해서\n",
    "\n",
    "주석을 이용해서 알립니다 주석은 우리가 컴퓨터한테 \"야야 이거는 남들 알려주기용이니깐 읽지말아봐 일단은 ㅇㅇ;;\"\n",
    "\n",
    "라는 식으로 생각하시면됩니다\n",
    "\n",
    "주석은 하나씩할때는 `#`을 이용해서 하지만 무덕이로 할때는 ```\"\"\"``` 으로 해서 주석을 진행합니다\n",
    "\n",
    "코드는 아래와 같습니다"
   ]
  },
  {
   "cell_type": "code",
   "execution_count": 1,
   "id": "846f0153-1940-440d-ad1e-6a33957f0117",
   "metadata": {},
   "outputs": [
    {
     "name": "stdout",
     "output_type": "stream",
     "text": [
      "asdfasdf\n"
     ]
    }
   ],
   "source": [
    "print(\"asdfasdf\") # 니얼굴 감자 튀김"
   ]
  },
  {
   "cell_type": "code",
   "execution_count": 2,
   "id": "51e20e93-51b6-4d72-aded-5c7ba0fc8458",
   "metadata": {},
   "outputs": [
    {
     "name": "stdout",
     "output_type": "stream",
     "text": [
      "감튀 머스타드지~\n"
     ]
    }
   ],
   "source": [
    "\"\"\"\n",
    "니얼굴 감자 튀김!\n",
    "\"\"\"\n",
    "\n",
    "print(\"감튀 머스타드지~\")"
   ]
  }
 ],
 "metadata": {
  "kernelspec": {
   "display_name": "Python 3 (ipykernel)",
   "language": "python",
   "name": "python3"
  },
  "language_info": {
   "codemirror_mode": {
    "name": "ipython",
    "version": 3
   },
   "file_extension": ".py",
   "mimetype": "text/x-python",
   "name": "python",
   "nbconvert_exporter": "python",
   "pygments_lexer": "ipython3",
   "version": "3.10.2"
  }
 },
 "nbformat": 4,
 "nbformat_minor": 5
}
