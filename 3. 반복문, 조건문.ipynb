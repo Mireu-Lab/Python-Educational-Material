{
 "cells": [
  {
   "cell_type": "markdown",
   "id": "2c0a4e2a-b085-4f8a-b14c-1da3d88735b4",
   "metadata": {},
   "source": [
    "## 반복문"
   ]
  },
  {
   "cell_type": "code",
   "execution_count": null,
   "id": "088b6cd6-1047-4fed-b4f4-bf0e3ec503d3",
   "metadata": {},
   "outputs": [],
   "source": [
    "a = 0\n",
    "for a > 10:\n",
    "    print(a*\"*\")\n",
    "    a += 1"
   ]
  },
  {
   "cell_type": "code",
   "execution_count": null,
   "id": "43f96394-e9a5-4ba3-8f0a-40d1eeeb4fcd",
   "metadata": {},
   "outputs": [],
   "source": [
    "for lists in text_list:\n",
    "    print(lists)"
   ]
  },
  {
   "cell_type": "code",
   "execution_count": null,
   "id": "6ee836ca-97ed-4307-9716-0a4f68f21823",
   "metadata": {},
   "outputs": [],
   "source": [
    "while True:\n",
    "    print(\"1\")"
   ]
  },
  {
   "cell_type": "markdown",
   "id": "777312d8-bceb-42cb-86fb-f8dc1d32d3ec",
   "metadata": {},
   "source": [
    "## 조건문"
   ]
  },
  {
   "cell_type": "code",
   "execution_count": null,
   "id": "c001889a-a594-40cd-8acb-ef8334290528",
   "metadata": {},
   "outputs": [],
   "source": [
    "a = 0\n",
    "if a == 1:\n",
    "    print(a)"
   ]
  },
  {
   "cell_type": "code",
   "execution_count": null,
   "id": "ebfd2eae-f26b-459b-9672-b10a69ef6bd7",
   "metadata": {
    "tags": []
   },
   "outputs": [],
   "source": [
    "a = 0\n",
    "if a == 1:\n",
    "    print(a)\n",
    "else:\n",
    "    print(a)"
   ]
  },
  {
   "cell_type": "code",
   "execution_count": null,
   "id": "78920dc2-1df7-4122-9120-497437b34dd5",
   "metadata": {},
   "outputs": [],
   "source": [
    "a = 0\n",
    "if a == 1:\n",
    "    print(a)\n",
    "elif a == 2:\n",
    "    print(a)\n",
    "else:\n",
    "    print(a)"
   ]
  }
 ],
 "metadata": {
  "kernelspec": {
   "display_name": "Python 3 (ipykernel)",
   "language": "python",
   "name": "python3"
  },
  "language_info": {
   "codemirror_mode": {
    "name": "ipython",
    "version": 3
   },
   "file_extension": ".py",
   "mimetype": "text/x-python",
   "name": "python",
   "nbconvert_exporter": "python",
   "pygments_lexer": "ipython3",
   "version": "3.10.2"
  }
 },
 "nbformat": 4,
 "nbformat_minor": 5
}
