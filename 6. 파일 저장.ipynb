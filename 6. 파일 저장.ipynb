{
 "cells": [
  {
   "cell_type": "markdown",
   "id": "a35e8391-a70a-4a81-a7c0-4aee163e8a16",
   "metadata": {},
   "source": [
    "## 파일 읽기"
   ]
  },
  {
   "cell_type": "code",
   "execution_count": 9,
   "id": "1fb6afb6-d0f5-4e56-81d6-d7cf92251116",
   "metadata": {},
   "outputs": [],
   "source": [
    "file = open(\"Data/test.txt\")\n",
    "file.read()\n",
    "file.close()"
   ]
  },
  {
   "cell_type": "markdown",
   "id": "af858bbc-6600-4271-af67-c1762368632c",
   "metadata": {},
   "source": [
    "## 파일 쓰기"
   ]
  },
  {
   "cell_type": "code",
   "execution_count": 15,
   "id": "03ffd6b1-141e-4e4c-b738-ee3f367d0fb4",
   "metadata": {},
   "outputs": [],
   "source": [
    "text = '안녕하세요 저는 지나가던 고딩 개발자 미르입니다'\n",
    "\n",
    "file = open(\"Data/test1.txt\", \"w\")\n",
    "file.write(text)\n",
    "file.close()"
   ]
  }
 ],
 "metadata": {
  "kernelspec": {
   "display_name": "Python 3 (ipykernel)",
   "language": "python",
   "name": "python3"
  },
  "language_info": {
   "codemirror_mode": {
    "name": "ipython",
    "version": 3
   },
   "file_extension": ".py",
   "mimetype": "text/x-python",
   "name": "python",
   "nbconvert_exporter": "python",
   "pygments_lexer": "ipython3",
   "version": "3.10.2"
  }
 },
 "nbformat": 4,
 "nbformat_minor": 5
}
