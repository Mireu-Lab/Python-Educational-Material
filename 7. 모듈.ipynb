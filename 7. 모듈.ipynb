{
 "cells": [
  {
   "cell_type": "markdown",
   "id": "aefa9904-9c50-4f46-bb5e-bd379a879e98",
   "metadata": {},
   "source": [
    "## 모듈 : 불러오기"
   ]
  },
  {
   "cell_type": "code",
   "execution_count": 21,
   "id": "6f3d5c86-bea7-442b-999a-0f6f93cb0b81",
   "metadata": {},
   "outputs": [
    {
     "name": "stdout",
     "output_type": "stream",
     "text": [
      "[{'name': 'mireu', 'age': 19, 'job': 'student'}]\n"
     ]
    }
   ],
   "source": [
    "import json\n",
    "\n",
    "json_list = [{\"name\" : \"mireu\", \"age\" : 19, \"job\" : \"student\"}]\n",
    "\n",
    "with open(\"Data/test.json\", \"w\") as test:\n",
    "    json.dump(json_list, test, indent=4)\n",
    "\n",
    "with open(\"Data/test.json\", \"r\") as test:\n",
    "    json_data = json.load(test)\n",
    "\n",
    "print(json_data)"
   ]
  },
  {
   "cell_type": "markdown",
   "id": "11175124-6782-4a51-84d9-1993f05e7043",
   "metadata": {},
   "source": [
    "## 모듈 : 현제 시간"
   ]
  },
  {
   "cell_type": "code",
   "execution_count": 5,
   "id": "39041411-44a8-41b1-8d7b-a596c772dec6",
   "metadata": {},
   "outputs": [
    {
     "name": "stdout",
     "output_type": "stream",
     "text": [
      "2022-03-29 00:54:11.248812+09:00\n",
      "2022 - 3 - 29\n",
      "2022-3-29\n"
     ]
    }
   ],
   "source": [
    "import datetime\n",
    "from pytz import timezone\n",
    "\n",
    "now = datetime.datetime.now(timezone('Asia/Seoul'))\n",
    "\n",
    "print(now)\n",
    "\n",
    "print(now.year,\"-\",now.month,\"-\",now.day)\n",
    "\n",
    "print(f\"{now.year}-{now.month}-{now.day}\")"
   ]
  }
 ],
 "metadata": {
  "kernelspec": {
   "display_name": "Python 3 (ipykernel)",
   "language": "python",
   "name": "python3"
  },
  "language_info": {
   "codemirror_mode": {
    "name": "ipython",
    "version": 3
   },
   "file_extension": ".py",
   "mimetype": "text/x-python",
   "name": "python",
   "nbconvert_exporter": "python",
   "pygments_lexer": "ipython3",
   "version": "3.10.2"
  }
 },
 "nbformat": 4,
 "nbformat_minor": 5
}
