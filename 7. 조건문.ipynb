{
 "cells": [
  {
   "cell_type": "code",
   "execution_count": null,
   "id": "36bc41b9-d946-455d-9570-3c5a9f6ecfdc",
   "metadata": {},
   "outputs": [],
   "source": []
  },
  {
   "cell_type": "markdown",
   "id": "fce8ef26-7cf7-4c9d-b725-4ecb1905317a",
   "metadata": {},
   "source": [
    "## 조건문"
   ]
  },
  {
   "cell_type": "code",
   "execution_count": null,
   "id": "ad04be22-0d6f-431f-859d-aec78ea6349d",
   "metadata": {},
   "outputs": [],
   "source": [
    "a = 0\n",
    "if a == 1:\n",
    "    print(a)"
   ]
  },
  {
   "cell_type": "code",
   "execution_count": null,
   "id": "d2128644-fa7b-440f-9050-0acee2770c25",
   "metadata": {
    "tags": []
   },
   "outputs": [],
   "source": [
    "a = 0\n",
    "if a == 1:\n",
    "    print(a)\n",
    "else:\n",
    "    print(a)"
   ]
  },
  {
   "cell_type": "code",
   "execution_count": null,
   "id": "0d397022-b702-4c51-9749-ed1b5c3a521c",
   "metadata": {},
   "outputs": [],
   "source": [
    "a = 0\n",
    "if a == 1:\n",
    "    print(a)\n",
    "elif a == 2:\n",
    "    print(a)\n",
    "else:\n",
    "    print(a)"
   ]
  }
 ],
 "metadata": {
  "kernelspec": {
   "display_name": "Python 3 (ipykernel)",
   "language": "python",
   "name": "python3"
  },
  "language_info": {
   "codemirror_mode": {
    "name": "ipython",
    "version": 3
   },
   "file_extension": ".py",
   "mimetype": "text/x-python",
   "name": "python",
   "nbconvert_exporter": "python",
   "pygments_lexer": "ipython3",
   "version": "3.10.2"
  }
 },
 "nbformat": 4,
 "nbformat_minor": 5
}
