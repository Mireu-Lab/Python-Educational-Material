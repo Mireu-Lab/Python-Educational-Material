{
 "cells": [
  {
   "cell_type": "markdown",
   "id": "f5810b1f-7dc1-4a42-b253-de86812f156d",
   "metadata": {},
   "source": [
    "## 변수 : 문자열 타입 (텍스트)"
   ]
  },
  {
   "cell_type": "code",
   "execution_count": 3,
   "id": "b82e36e9-6cce-4fed-a887-a0757f66616e",
   "metadata": {},
   "outputs": [
    {
     "data": {
      "text/plain": [
       "str"
      ]
     },
     "execution_count": 3,
     "metadata": {},
     "output_type": "execute_result"
    }
   ],
   "source": [
    "text = \"mireu/미르\"\n",
    "\n",
    "type(text)"
   ]
  },
  {
   "cell_type": "markdown",
   "id": "a0ec69e2-fb3e-4e12-acf5-0cb7b55900c8",
   "metadata": {},
   "source": [
    "## 변수 : 정수형 타입 (양수, 자연수)"
   ]
  },
  {
   "cell_type": "code",
   "execution_count": 19,
   "id": "b0e84dca-8447-446e-b152-5ca75c3509f2",
   "metadata": {},
   "outputs": [
    {
     "data": {
      "text/plain": [
       "int"
      ]
     },
     "execution_count": 19,
     "metadata": {},
     "output_type": "execute_result"
    }
   ],
   "source": [
    "number_int = 19\n",
    "\n",
    "type(number_int)"
   ]
  },
  {
   "cell_type": "markdown",
   "id": "3c2ef9a9-0854-4909-a948-994496ee264c",
   "metadata": {},
   "source": [
    "## 변수 : 실수형 타입 (소수, 음수(-))"
   ]
  },
  {
   "cell_type": "code",
   "execution_count": 21,
   "id": "a921d0b4-4a1d-4cad-900b-aef1ff92a458",
   "metadata": {},
   "outputs": [
    {
     "data": {
      "text/plain": [
       "float"
      ]
     },
     "execution_count": 21,
     "metadata": {},
     "output_type": "execute_result"
    }
   ],
   "source": [
    "number_float = 0.35\n",
    "\n",
    "type(number_float)"
   ]
  },
  {
   "cell_type": "markdown",
   "id": "23a82a9e-0358-4062-9640-c53ba5e66629",
   "metadata": {},
   "source": [
    "## 변수 : 논리형 (옳다, 틀리다)"
   ]
  },
  {
   "cell_type": "code",
   "execution_count": 20,
   "id": "427329df-8a4f-4f1f-8893-c9da110aaf70",
   "metadata": {},
   "outputs": [
    {
     "data": {
      "text/plain": [
       "bool"
      ]
     },
     "execution_count": 20,
     "metadata": {},
     "output_type": "execute_result"
    }
   ],
   "source": [
    "bools = True #False\n",
    "\n",
    "type(bools)"
   ]
  },
  {
   "cell_type": "markdown",
   "id": "e0b9aa91-a722-4906-b229-b5e52435cd42",
   "metadata": {
    "tags": []
   },
   "source": [
    "## 변수 : 리스트형"
   ]
  },
  {
   "cell_type": "code",
   "execution_count": 6,
   "id": "276b711e-1ba4-4412-9923-02adab096549",
   "metadata": {},
   "outputs": [
    {
     "data": {
      "text/plain": [
       "[1, 2, 3]"
      ]
     },
     "execution_count": 6,
     "metadata": {},
     "output_type": "execute_result"
    }
   ],
   "source": [
    "number_lists = [1, 2, 3]\n",
    "\n",
    "number_lists"
   ]
  },
  {
   "cell_type": "code",
   "execution_count": 10,
   "id": "0c06b854-3bc0-46e5-8db0-1957ca0ad98d",
   "metadata": {},
   "outputs": [
    {
     "name": "stdout",
     "output_type": "stream",
     "text": [
      "1 2 3\n"
     ]
    }
   ],
   "source": [
    "print(number_lists[0], number_lists[1], number_lists[2])"
   ]
  },
  {
   "cell_type": "code",
   "execution_count": 11,
   "id": "3bfde5c3-0f75-4ae1-86c2-8fdbfdc8502c",
   "metadata": {},
   "outputs": [
    {
     "data": {
      "text/plain": [
       "['mireu', '미르', '지나가던 개발자']"
      ]
     },
     "execution_count": 11,
     "metadata": {},
     "output_type": "execute_result"
    }
   ],
   "source": [
    "text_lists = [\"mireu\", \"미르\", \"지나가던 개발자\"]\n",
    "\n",
    "text_lists"
   ]
  },
  {
   "cell_type": "code",
   "execution_count": 25,
   "id": "556eecaf-b960-49ed-909e-86d4b38b36f2",
   "metadata": {},
   "outputs": [
    {
     "name": "stdout",
     "output_type": "stream",
     "text": [
      "mireu 미르 지나가던 개발자\n"
     ]
    }
   ],
   "source": [
    "print(text_lists[0], text_lists[1], text_lists[2])"
   ]
  },
  {
   "cell_type": "code",
   "execution_count": 27,
   "id": "fd577985-b3a0-42c6-8c5e-f3df402e5d1a",
   "metadata": {},
   "outputs": [
    {
     "name": "stdout",
     "output_type": "stream",
     "text": [
      "['mireu', '미르']\n"
     ]
    }
   ],
   "source": [
    "print(text_lists[0:2])"
   ]
  },
  {
   "cell_type": "markdown",
   "id": "07ba2fda-270a-4bb5-9354-ed75da5a8466",
   "metadata": {},
   "source": [
    "### 데이터 추가, 수정, 삭제"
   ]
  },
  {
   "cell_type": "code",
   "execution_count": 39,
   "id": "d1c249c0-b3cb-4066-b82b-a4689f21a5e8",
   "metadata": {},
   "outputs": [
    {
     "name": "stdout",
     "output_type": "stream",
     "text": [
      "[1, 2, 3, 19]\n"
     ]
    }
   ],
   "source": [
    "number_lists.append(19)\n",
    "print(number_lists)"
   ]
  },
  {
   "cell_type": "code",
   "execution_count": 40,
   "id": "55752126-48db-4dbe-b297-2d99d3daa68d",
   "metadata": {},
   "outputs": [
    {
     "name": "stdout",
     "output_type": "stream",
     "text": [
      "[19, 1, 2, 3, 19]\n"
     ]
    }
   ],
   "source": [
    "number_lists.insert(0, 19)\n",
    "print(number_lists)"
   ]
  },
  {
   "cell_type": "code",
   "execution_count": 41,
   "id": "677834e5-ec4a-45b2-870e-5ff514c775c3",
   "metadata": {},
   "outputs": [
    {
     "name": "stdout",
     "output_type": "stream",
     "text": [
      "[1, 2, 3, 19]\n"
     ]
    }
   ],
   "source": [
    "number_lists.remove(19)\n",
    "print(number_lists)"
   ]
  },
  {
   "cell_type": "markdown",
   "id": "7b36e9e5-f3bd-4f7f-aeb3-f190cf3f7e13",
   "metadata": {},
   "source": [
    "## 변수 : 디셔너리형"
   ]
  },
  {
   "cell_type": "code",
   "execution_count": 43,
   "id": "81014462-a816-422f-824a-d48605aeed3f",
   "metadata": {},
   "outputs": [
    {
     "data": {
      "text/plain": [
       "{'name': 'mireu', 'age': 19, 'job': 'student'}"
      ]
     },
     "execution_count": 43,
     "metadata": {},
     "output_type": "execute_result"
    }
   ],
   "source": [
    "number_lists = {\"name\" : \"mireu\", \"age\" : 19, \"job\" : \"student\"}\n",
    "\n",
    "number_lists"
   ]
  },
  {
   "cell_type": "markdown",
   "id": "52139773-521c-421b-b276-976c006a87ab",
   "metadata": {
    "tags": []
   },
   "source": [
    "## 변수 데이터 : 변환"
   ]
  },
  {
   "cell_type": "code",
   "execution_count": 30,
   "id": "4c87adf7-cd05-4500-a498-e063c87e4b0c",
   "metadata": {},
   "outputs": [
    {
     "name": "stdout",
     "output_type": "stream",
     "text": [
      "19\n",
      "19.0\n"
     ]
    }
   ],
   "source": [
    "print(str(number_int))\n",
    "print(float(number_int))"
   ]
  },
  {
   "cell_type": "markdown",
   "id": "5a42b1f5-1439-4507-8bca-1cb7f6270791",
   "metadata": {},
   "source": [
    "## 변수 데이터 : 문자 갯수"
   ]
  },
  {
   "cell_type": "code",
   "execution_count": 29,
   "id": "2ff2cb73-d859-4878-a638-16a306c2e52c",
   "metadata": {},
   "outputs": [
    {
     "data": {
      "text/plain": [
       "8"
      ]
     },
     "execution_count": 29,
     "metadata": {},
     "output_type": "execute_result"
    }
   ],
   "source": [
    "len(text)"
   ]
  }
 ],
 "metadata": {
  "kernelspec": {
   "display_name": "Python 3 (ipykernel)",
   "language": "python",
   "name": "python3"
  },
  "language_info": {
   "codemirror_mode": {
    "name": "ipython",
    "version": 3
   },
   "file_extension": ".py",
   "mimetype": "text/x-python",
   "name": "python",
   "nbconvert_exporter": "python",
   "pygments_lexer": "ipython3",
   "version": "3.10.2"
  }
 },
 "nbformat": 4,
 "nbformat_minor": 5
}
