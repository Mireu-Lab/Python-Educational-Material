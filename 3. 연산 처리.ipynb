{
 "cells": [
  {
   "cell_type": "markdown",
   "id": "3573a114-1fc2-43e0-bac0-f55c460af9c6",
   "metadata": {},
   "source": [
    "# 연산 처리\n",
    "\n",
    "연산 처리 문법은 파이썬 뿐만아니라 다른 언어에서 공동으로 사용되는 문법입니다"
   ]
  },
  {
   "cell_type": "markdown",
   "id": "c5bad92e-a61d-404a-b7c0-f6b00dcc369d",
   "metadata": {
    "tags": []
   },
   "source": [
    "### 덧셈\n",
    "덧셈은 우리가 특수 문자로 사용되고있는 `+` 입니다\n",
    "\n",
    "파이썬에서 실행할때는 아래와 같습니다\n",
    "\n",
    "```py\n",
    "1+1\n",
    "```\n",
    "시시하죠? 근데 이거는 문자열에서도 동작한다는것도 알고 계세요\n",
    "\n",
    "```py\n",
    "\"mireu\" + \"미르\"\n",
    "```\n",
    "이렇게 문자열끼리 더해서 출력할수도있답니다"
   ]
  },
  {
   "cell_type": "code",
   "execution_count": null,
   "id": "c5a94cd8-6773-4836-817a-3b33a28aa4d4",
   "metadata": {},
   "outputs": [],
   "source": [
    "print(1+1) #덧셈"
   ]
  },
  {
   "cell_type": "markdown",
   "id": "7f6bcd9f-cb79-450f-bf7f-968468929a4b",
   "metadata": {
    "tags": []
   },
   "source": [
    "### 뺄셈\n",
    "\n",
    "그리고 뺄셈!\n",
    "\n",
    "뺄셈도 똑같이 우리가 늘 사용하는 특수문자로 사용되고있습니다\n",
    "\n",
    "바로 `-` 이죠\n",
    "\n",
    "저걸가지고 어떻게 하냐고요? 뭐하긴 뭐해요 숫자나 빼라고 만든거지\n",
    "\n",
    "코드는 아래와 같습니다\n",
    "\n",
    "```py\n",
    "1-1\n",
    "```\n",
    "이건 뻔한 결과 값이라서 볼것도 없네요"
   ]
  },
  {
   "cell_type": "code",
   "execution_count": 20,
   "id": "e6edd2e7-2700-4700-b2ff-7675b369a338",
   "metadata": {},
   "outputs": [
    {
     "name": "stdout",
     "output_type": "stream",
     "text": [
      "0\n"
     ]
    }
   ],
   "source": [
    "print(1-1) #뺄셈"
   ]
  },
  {
   "cell_type": "markdown",
   "id": "752d7a75-d98b-4a76-a84f-92790511300b",
   "metadata": {
    "tags": []
   },
   "source": [
    "### 곱셈, 제곱\n",
    "\n",
    "곱셈은 이제 우리가 아는 문자 `X`을 쓰지 않아요\n",
    "\n",
    "왜냐면 문자열이라서 작동을 안하근요 ~~대신 애러뜨지~~\n",
    "\n",
    "그래서 곱셈의 기호는 뭐냐!\n",
    "\n",
    "`*` 입니다!\n",
    "\n",
    "코드는 아래와 같습니다\n",
    "\n",
    "```py\n",
    "2 * 2\n",
    "```\n",
    "\n",
    "이렇게 작성해서 실행 해보면! 결과적으로는 4가 나오게됩니다."
   ]
  },
  {
   "cell_type": "code",
   "execution_count": 21,
   "id": "b9bfda0b-7c5a-4c04-bdbc-26ae156031ea",
   "metadata": {},
   "outputs": [
    {
     "name": "stdout",
     "output_type": "stream",
     "text": [
      "4\n",
      "9\n"
     ]
    }
   ],
   "source": [
    "print(2*2) #곱셈"
   ]
  },
  {
   "cell_type": "markdown",
   "id": "e18f481c-3425-4826-854d-9d64cb5a2b05",
   "metadata": {},
   "source": [
    "### 제곱\n",
    "\n",
    "아 그리고 제곱! 어짜피 쓸일이 잘없는 제곱! 데이터 사이언스 아니면 쓸일이 그닥 없는 제곱!\n",
    "\n",
    "을 알아보겠습니다.\n",
    "\n",
    "제곱의 기호는 이렇게 됩니다! `**`\n",
    "\n",
    "이렇게 봐도 뭔지 모르겠다면 그냥 코드을 보는게 인지상정이죠\n",
    "\n",
    "제곱의 코드는 아래와 같습니다\n",
    "\n",
    "```py\n",
    "3**2\n",
    "```\n",
    "이렇게 작성하게되면 결과적으로 9가 나오게됩니다."
   ]
  },
  {
   "cell_type": "code",
   "execution_count": 25,
   "id": "a20d59d6-7ced-4a03-aed6-312325e4c915",
   "metadata": {},
   "outputs": [
    {
     "name": "stdout",
     "output_type": "stream",
     "text": [
      "9\n"
     ]
    }
   ],
   "source": [
    "print(3**2) #제곱"
   ]
  }
 ],
 "metadata": {
  "kernelspec": {
   "display_name": "Python 3 (ipykernel)",
   "language": "python",
   "name": "python3"
  },
  "language_info": {
   "codemirror_mode": {
    "name": "ipython",
    "version": 3
   },
   "file_extension": ".py",
   "mimetype": "text/x-python",
   "name": "python",
   "nbconvert_exporter": "python",
   "pygments_lexer": "ipython3",
   "version": "3.10.2"
  }
 },
 "nbformat": 4,
 "nbformat_minor": 5
}
